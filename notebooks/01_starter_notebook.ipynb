{
 "cells": [
  {
   "cell_type": "code",
   "execution_count": 3,
   "id": "c2e6911d-592f-4670-aa81-a4199d52b532",
   "metadata": {},
   "outputs": [],
   "source": [
    "import os\n",
    "import shutil\n",
    "import random\n",
    "from pathlib import Path\n",
    "import yaml"
   ]
  },
  {
   "cell_type": "code",
   "execution_count": 6,
   "id": "547761a3-57ec-4907-8a9c-0fe82fc566e6",
   "metadata": {},
   "outputs": [
    {
     "name": "stdout",
     "output_type": "stream",
     "text": [
      "/root/playgrounds/Celebrity_Recognition\n"
     ]
    },
    {
     "name": "stderr",
     "output_type": "stream",
     "text": [
      "/opt/conda/envs/face/lib/python3.10/site-packages/IPython/core/magics/osm.py:417: UserWarning: This is now an optional IPython functionality, setting dhist requires you to install the `pickleshare` library.\n",
      "  self.shell.db['dhist'] = compress_dhist(dhist)[-100:]\n"
     ]
    }
   ],
   "source": [
    "%cd .."
   ]
  },
  {
   "cell_type": "markdown",
   "id": "e273c26b-63ea-4a27-8f8d-3beacc020c58",
   "metadata": {},
   "source": [
    "# Config"
   ]
  },
  {
   "cell_type": "code",
   "execution_count": 8,
   "id": "356cb96b-adca-40c7-b4ba-25b14e70f51b",
   "metadata": {},
   "outputs": [
    {
     "data": {
      "text/plain": [
       "{'data': {'data_url': 'https://drive.google.com/file/d/1CApw-tk_ifrbDR4ZQ-dQz5vqH016P3UM/view?usp=drive_link'}}"
      ]
     },
     "execution_count": 8,
     "metadata": {},
     "output_type": "execute_result"
    }
   ],
   "source": [
    "CURRENT_DIR = os.getcwd()\n",
    "CONFIG_PATH = os.path.join(CURRENT_DIR, \"configs\", \"config.yaml\")\n",
    "\n",
    "# Load all parameters from config.yaml\n",
    "params = yaml.safe_load(open(CONFIG_PATH))\n",
    "params"
   ]
  },
  {
   "cell_type": "code",
   "execution_count": 9,
   "id": "924fef69-4a95-4cf4-b1a7-43aff8dda6dc",
   "metadata": {},
   "outputs": [
    {
     "name": "stdout",
     "output_type": "stream",
     "text": [
      "Dataset path is: /root/playgrounds/Celebrity_Recognition/data/Assignment - Celebrity Recognition.zip\n",
      "Extracted to: /root/playgrounds/Celebrity_Recognition/data\n"
     ]
    }
   ],
   "source": [
    "import zipfile\n",
    "import os\n",
    "\n",
    "def unzip_file(zip_path, extract_to=None):\n",
    "    \"\"\"Extracts a ZIP file to the specified directory (default: same folder as zip).\"\"\"\n",
    "    extract_to = extract_to or os.path.dirname(zip_path)\n",
    "    \n",
    "    with zipfile.ZipFile(zip_path, \"r\") as zip_ref:\n",
    "        zip_ref.extractall(extract_to)\n",
    "\n",
    "    print(f\"Extracted to: {extract_to}\")\n",
    "\n",
    "\n",
    "def get_dataset(data_path):\n",
    "    # unzip the dataset zip file\n",
    "    unzip_file(zip_path=data_path)\n",
    "\n",
    "\n",
    "if __name__ == '__main__':\n",
    "    CURRENT_DIR = os.getcwd()\n",
    "    CONFIG_PATH = os.path.join(CURRENT_DIR, \"configs\", \"config.yaml\")\n",
    "\n",
    "    # Load all parameters from config.yaml\n",
    "    params = yaml.safe_load(open(CONFIG_PATH))\n",
    "\n",
    "    # get the dataset\n",
    "    data_path = params['data']['data_path']\n",
    "    print(f\"Dataset path is: {data_path}\")\n",
    "    get_dataset(data_path)"
   ]
  },
  {
   "cell_type": "markdown",
   "id": "525428da-2a9a-4e1a-9648-7eea759f3e11",
   "metadata": {},
   "source": [
    "# EDA"
   ]
  },
  {
   "cell_type": "code",
   "execution_count": null,
   "id": "8c762e3b-f447-467d-b53e-b65264192eed",
   "metadata": {},
   "outputs": [],
   "source": [
    "dataset_path = os.path.join(CURRENT_DIR, \"data\", \"dataset\")\n",
    "train_dir = os.path.join(dataset_path, \"train\")\n",
    "train_dir = os.path.join(dataset_path, \"train\")"
   ]
  }
 ],
 "metadata": {
  "kernelspec": {
   "display_name": "Python [conda env:face]",
   "language": "python",
   "name": "conda-env-face-py"
  },
  "language_info": {
   "codemirror_mode": {
    "name": "ipython",
    "version": 3
   },
   "file_extension": ".py",
   "mimetype": "text/x-python",
   "name": "python",
   "nbconvert_exporter": "python",
   "pygments_lexer": "ipython3",
   "version": "3.10.16"
  }
 },
 "nbformat": 4,
 "nbformat_minor": 5
}
